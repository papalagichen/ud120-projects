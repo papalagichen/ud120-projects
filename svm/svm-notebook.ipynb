{
 "cells": [
  {
   "cell_type": "code",
   "execution_count": 2,
   "metadata": {},
   "outputs": [
    {
     "name": "stderr",
     "output_type": "stream",
     "text": [
      "/Users/papalagi/.virtualenvs/ud120-projects-jupyter/lib/python2.7/site-packages/sklearn/cross_validation.py:41: DeprecationWarning: This module was deprecated in version 0.18 in favor of the model_selection module into which all the refactored classes and functions are moved. Also note that the interface of the new CV iterators are different from that of this module. This module will be removed in 0.20.\n",
      "  \"This module will be removed in 0.20.\", DeprecationWarning)\n"
     ]
    },
    {
     "name": "stdout",
     "output_type": "stream",
     "text": [
      "no. of Chris training emails: 7936\n",
      "no. of Sara training emails: 7884\n"
     ]
    }
   ],
   "source": [
    "import sys\n",
    "from time import time\n",
    "sys.path.append(\"../tools/\")\n",
    "from email_preprocess import preprocess\n",
    "from sklearn import svm\n",
    "\n",
    "features_train, features_test, labels_train, labels_test = preprocess()"
   ]
  },
  {
   "cell_type": "code",
   "execution_count": null,
   "metadata": {},
   "outputs": [],
   "source": [
    "# Use SVM linear kernel\n",
    "classifier = svm.SVC(kernel='linear')\n",
    "\n",
    "t0 = time()\n",
    "classifier.fit(features_train, labels_train)\n",
    "print \"training time: \", round(time() - t0, 3), \"s\"\n",
    "\n",
    "t1 = time()\n",
    "predict = classifier.predict(features_test)\n",
    "print \"predicting time: \", round(time() - t1, 3), \"s\"\n",
    "\n",
    "t2 = time()\n",
    "score = classifier.score(features_test, labels_test)\n",
    "print \"scoring time: \", round(time() - t2, 3), \"s\"\n",
    "print(\"score: {}\".format(score))"
   ]
  },
  {
   "cell_type": "code",
   "execution_count": 7,
   "metadata": {},
   "outputs": [
    {
     "name": "stdout",
     "output_type": "stream",
     "text": [
      "training time:  5810.417 s\n",
      "predicting time:  129.875 s\n",
      "scoring time:  131.289 s\n",
      "score: 0.492036405006\n"
     ]
    }
   ],
   "source": [
    "# Use SVM rbf kernel\n",
    "classifier = svm.SVC()\n",
    "\n",
    "t0 = time()\n",
    "classifier.fit(features_train, labels_train)\n",
    "print \"training time: \", round(time() - t0, 3), \"s\"\n",
    "\n",
    "t1 = time()\n",
    "predict = classifier.predict(features_test)\n",
    "print \"predicting time: \", round(time() - t1, 3), \"s\"\n",
    "\n",
    "t2 = time()\n",
    "score = classifier.score(features_test, labels_test)\n",
    "print \"scoring time: \", round(time() - t2, 3), \"s\"\n",
    "print(\"score: {}\".format(score))"
   ]
  },
  {
   "cell_type": "code",
   "execution_count": null,
   "metadata": {},
   "outputs": [],
   "source": [
    "# Use SVM rbf kernel with penalty C 10000.0\n",
    "classifier = svm.SVC(C=10000.0)\n",
    "\n",
    "t0 = time()\n",
    "classifier.fit(features_train, labels_train)\n",
    "print \"training time: \", round(time() - t0, 3), \"s\"\n",
    "\n",
    "t1 = time()\n",
    "predict = classifier.predict(features_test)\n",
    "print \"predicting time: \", round(time() - t1, 3), \"s\"\n",
    "\n",
    "t2 = time()\n",
    "score = classifier.score(features_test, labels_test)\n",
    "print \"scoring time: \", round(time() - t2, 3), \"s\"\n",
    "print score"
   ]
  },
  {
   "cell_type": "code",
   "execution_count": null,
   "metadata": {},
   "outputs": [],
   "source": [
    "# Use only 1% training set\n",
    "features_train = features_train[:len(features_train) / 100]\n",
    "labels_train = labels_train[:len(labels_train) / 100]\n",
    "\n",
    "classifier = svm.SVC(C=10000.0)\n",
    "\n",
    "t0 = time()\n",
    "classifier.fit(features_train, labels_train)\n",
    "print \"training time: \", round(time() - t0, 3), \"s\"\n",
    "\n",
    "t1 = time()\n",
    "predict = classifier.predict(features_test)\n",
    "print \"predicting time: \", round(time() - t1, 3), \"s\"\n",
    "\n",
    "t2 = time()\n",
    "score = classifier.score(features_test, labels_test)\n",
    "print \"scoring time: \", round(time() - t2, 3), \"s\"\n",
    "print \"score: \", score"
   ]
  },
  {
   "cell_type": "code",
   "execution_count": null,
   "metadata": {},
   "outputs": [],
   "source": []
  }
 ],
 "metadata": {
  "kernelspec": {
   "display_name": "Python 2",
   "language": "python",
   "name": "python2"
  },
  "language_info": {
   "codemirror_mode": {
    "name": "ipython",
    "version": 2
   },
   "file_extension": ".py",
   "mimetype": "text/x-python",
   "name": "python",
   "nbconvert_exporter": "python",
   "pygments_lexer": "ipython2",
   "version": "2.7.14"
  }
 },
 "nbformat": 4,
 "nbformat_minor": 2
}
